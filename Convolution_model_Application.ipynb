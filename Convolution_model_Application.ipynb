{
 "cells": [
  {
   "cell_type": "markdown",
   "id": "38f5f384-9c5c-4887-887f-62e3a3d2413f",
   "metadata": {},
   "source": [
    "# Convolutional Neural Networks: Application"
   ]
  },
  {
   "cell_type": "markdown",
   "id": "1239efaf-cae6-4eaf-b566-a5cd1dfacff3",
   "metadata": {},
   "source": [
    "## 1.0 - TensorFlow model"
   ]
  },
  {
   "cell_type": "code",
   "execution_count": 3,
   "id": "a370db53-d62b-492a-9b7f-e7eb197efa74",
   "metadata": {},
   "outputs": [
    {
     "name": "stderr",
     "output_type": "stream",
     "text": [
      "2024-11-23 22:54:07.778972: E external/local_xla/xla/stream_executor/cuda/cuda_fft.cc:485] Unable to register cuFFT factory: Attempting to register factory for plugin cuFFT when one has already been registered\n",
      "2024-11-23 22:54:07.810170: E external/local_xla/xla/stream_executor/cuda/cuda_dnn.cc:8454] Unable to register cuDNN factory: Attempting to register factory for plugin cuDNN when one has already been registered\n",
      "2024-11-23 22:54:07.819709: E external/local_xla/xla/stream_executor/cuda/cuda_blas.cc:1452] Unable to register cuBLAS factory: Attempting to register factory for plugin cuBLAS when one has already been registered\n",
      "2024-11-23 22:54:07.842548: I tensorflow/core/platform/cpu_feature_guard.cc:210] This TensorFlow binary is optimized to use available CPU instructions in performance-critical operations.\n",
      "To enable the following instructions: AVX2 FMA, in other operations, rebuild TensorFlow with the appropriate compiler flags.\n",
      "2024-11-23 22:54:09.260883: W tensorflow/compiler/tf2tensorrt/utils/py_utils.cc:38] TF-TRT Warning: Could not find TensorRT\n"
     ]
    }
   ],
   "source": [
    "# Import essential libraries for numerical operations, visualization, and machine learning\n",
    "import math             # Math operations (will be used later in the code)\n",
    "import numpy as np      # Numerical operations with arrays\n",
    "import h5py             # HDF5 file handling (will be used later)\n",
    "import matplotlib.pyplot as plt  # Visualization\n",
    "import scipy            # Scientific and mathematical functions\n",
    "from PIL import Image   # Image processing (will be used later)\n",
    "from scipy import ndimage  # Multidimensional image processing\n",
    "import tensorflow as tf  # TensorFlow for machine learning models (eager execution enabled by default)\n",
    "from cnn_utils import *  # Custom utilities for CNN\n",
    "\n",
    "# Configure matplotlib for inline display in Jupyter notebooks\n",
    "%matplotlib inline\n",
    "\n",
    "# Set random seed for reproducibility\n",
    "np.random.seed(1)\n"
   ]
  },
  {
   "cell_type": "code",
   "execution_count": 4,
   "id": "093ed38d-5792-4588-8bfa-6fa09b318475",
   "metadata": {},
   "outputs": [],
   "source": [
    "# Load the dataset (signs)\n",
    "X_train_orig, Y_train_orig, X_test_orig, Y_test_orig, classes = load_dataset()\n"
   ]
  },
  {
   "cell_type": "code",
   "execution_count": 5,
   "id": "5767ba0c-a417-4909-b804-495e35d4e716",
   "metadata": {},
   "outputs": [
    {
     "data": {
      "image/png": "[encoded data removed]",
      "text/plain": [
       "<Figure size 640x480 with 1 Axes>"
      ]
     },
     "metadata": {},
     "output_type": "display_data"
    }
   ],
   "source": [
    "# Display an example image from the training set along with its label\n",
    "index = 6  # Index of the image to display\n",
    "plt.imshow(X_train_orig[index])  # Show the image at the specified index\n",
    "plt.title(f\"Label: {np.squeeze(Y_train_orig[:, index])}\")  # Display the label as the title\n",
    "plt.axis('off')  # Hide axis for a cleaner display\n",
    "plt.show()  # Display the image\n"
   ]
  },
  {
   "cell_type": "code",
   "execution_count": 6,
   "id": "d5b9920c-22bb-48cd-a26d-2ffd9a209282",
   "metadata": {},
   "outputs": [
    {
     "name": "stdout",
     "output_type": "stream",
     "text": [
      "Number of training examples: 1080\n",
      "Number of test examples: 120\n",
      "X_train shape: (1080, 64, 64, 3)\n",
      "Y_train shape: (1080, 6)\n",
      "X_test shape: (120, 64, 64, 3)\n",
      "Y_test shape: (120, 6)\n"
     ]
    }
   ],
   "source": [
    "# Normalize the input image data by scaling pixel values to the range [0, 1]\n",
    "X_train = X_train_orig / 255.0\n",
    "X_test = X_test_orig / 255.0\n",
    "\n",
    "# Convert labels to one-hot encoding for a 6-class classification task\n",
    "Y_train = convert_to_one_hot(Y_train_orig, 6).T\n",
    "Y_test = convert_to_one_hot(Y_test_orig, 6).T\n",
    "\n",
    "# Display dataset information\n",
    "print(f\"Number of training examples: {X_train.shape[0]}\")\n",
    "print(f\"Number of test examples: {X_test.shape[0]}\")\n",
    "print(f\"X_train shape: {X_train.shape}\")\n",
    "print(f\"Y_train shape: {Y_train.shape}\")\n",
    "print(f\"X_test shape: {X_test.shape}\")\n",
    "print(f\"Y_test shape: {Y_test.shape}\")\n",
    "\n",
    "# Initialize a dictionary to store convolutional layers, if needed later\n",
    "conv_layers = {}\n"
   ]
  },
  {
   "cell_type": "markdown",
   "id": "1a5a06f5-43fc-48b1-8103-f49076892c24",
   "metadata": {},
   "source": [
    "## 1.2 - Initialize parameters"
   ]
  },
  {
   "cell_type": "code",
   "execution_count": 8,
   "id": "cb8514e2-3691-423b-8f99-98de5903705f",
   "metadata": {},
   "outputs": [],
   "source": [
    "def initialize_parameters():\n",
    "    \"\"\"\n",
    "    Initializes weight parameters for a convolutional neural network.\n",
    "    \n",
    "    Returns:\n",
    "    parameters -- a dictionary containing initialized weight tensors W1 and W2, \n",
    "                  representing the convolutional filters (kernels) for each layer.\n",
    "    \"\"\"\n",
    "    \n",
    "    # Set random seed for reproducibility\n",
    "    tf.random.set_seed(1)\n",
    "    \n",
    "    # Define Xavier initializer for weight (filter/kernel) initialization\n",
    "    initializer = tf.keras.initializers.GlorotUniform(seed=0)\n",
    "\n",
    "    # Initialize weights for the first convolutional layer (filter/kernel)\n",
    "    W1 = tf.Variable(initializer(shape=(4, 4, 3, 8)), name=\"W1\")\n",
    "\n",
    "    # Initialize weights for the second convolutional layer (filter/kernel)\n",
    "    W2 = tf.Variable(initializer(shape=(2, 2, 8, 16)), name=\"W2\")\n",
    "\n",
    "    parameters = {\"W1\": W1, \"W2\": W2}\n",
    "    \n",
    "    return parameters\n"
   ]
  },
  {
   "cell_type": "code",
   "execution_count": 9,
   "id": "947d23ca-2fbb-4d45-b7e7-9649613f010f",
   "metadata": {},
   "outputs": [
    {
     "name": "stdout",
     "output_type": "stream",
     "text": [
      "W1[1,1,1] = \n",
      " [-0.05346771  0.18349849 -0.01215445  0.00138046  0.0012947  -0.02904211\n",
      " -0.11260509 -0.143055  ]\n",
      "W1 shape: (4, 4, 3, 8)\n",
      "\n",
      "W2[1,1,1] = \n",
      " [-0.1713624   0.09527719 -0.0744766  -0.02245569  0.24450928 -0.06879854\n",
      "  0.21546292 -0.08803296 -0.16513646 -0.19527972 -0.22957063  0.15745944\n",
      "  0.13090086 -0.12304181 -0.05287278  0.03434092]\n",
      "W2 shape: (2, 2, 8, 16)\n"
     ]
    }
   ],
   "source": [
    "import tensorflow as tf\n",
    "\n",
    "# Reinitialize parameters using TensorFlow 2.x eager execution\n",
    "parameters = initialize_parameters()  # Call the previously defined initialize_parameters function\n",
    "\n",
    "# Display specific entries and shapes for the weights/kernels W1 and W2\n",
    "print(\"W1[1,1,1] = \\n\", parameters[\"W1\"][1, 1, 1].numpy())\n",
    "print(f\"W1 shape: {parameters['W1'].shape}\\n\")\n",
    "\n",
    "print(\"W2[1,1,1] = \\n\", parameters[\"W2\"][1, 1, 1].numpy())\n",
    "print(f\"W2 shape: {parameters['W2'].shape}\")\n"
   ]
  },
  {
   "cell_type": "markdown",
   "id": "9d19634e-f4eb-4eaf-8f88-ed9fa1926a23",
   "metadata": {},
   "source": [
    "## 1.3 - Forward propagation"
   ]
  },
  {
   "cell_type": "code",
   "execution_count": 11,
   "id": "ff3b9184-b966-4270-b45a-ec770f0a2eaf",
   "metadata": {},
   "outputs": [],
   "source": [
    "def forward_propagation(X, parameters):\n",
    "    \"\"\"\n",
    "    Implements the forward propagation for a convolutional neural network:\n",
    "    CONV2D -> RELU -> MAXPOOL -> CONV2D -> RELU -> MAXPOOL -> FLATTEN -> FULLYCONNECTED\n",
    "\n",
    "    Arguments:\n",
    "    X -- input tensor of shape (batch_size, height, width, channels)\n",
    "    parameters -- dictionary containing the model's parameters \"W1\" and \"W2\"\n",
    "\n",
    "    Returns:\n",
    "    Z3 -- the output logits of the final fully connected layer\n",
    "    \"\"\"\n",
    "    \n",
    "    # Retrieve weights/kernels from parameters\n",
    "    W1 = parameters['W1']\n",
    "    W2 = parameters['W2']\n",
    "    \n",
    "    # First Convolutional Layer\n",
    "    Z1 = tf.nn.conv2d(X, W1, strides=1, padding='SAME')  # Convolution with stride 1\n",
    "    A1 = tf.nn.relu(Z1)  # ReLU activation\n",
    "    P1 = tf.nn.max_pool(A1, ksize=8, strides=8, padding='SAME')  # Max Pooling with 8x8 window and stride 8\n",
    "\n",
    "    # Second Convolutional Layer\n",
    "    Z2 = tf.nn.conv2d(P1, W2, strides=1, padding='SAME')  # Convolution with stride 1\n",
    "    A2 = tf.nn.relu(Z2)  # ReLU activation\n",
    "    P2 = tf.nn.max_pool(A2, ksize=4, strides=4, padding='SAME')  # Max Pooling with 4x4 window and stride 4\n",
    "\n",
    "    # Flatten the output from the final pooling layer\n",
    "    F = tf.reshape(P2, [P2.shape[0], -1])  # Flatten the output for the fully connected layer\n",
    "\n",
    "    # Fully connected layer (output layer with 6 logits, no activation)\n",
    "    num_outputs = 6\n",
    "    Z3 = tf.keras.layers.Dense(units=num_outputs, activation=None)(F)\n",
    "\n",
    "    return Z3\n"
   ]
  },
  {
   "cell_type": "code",
   "execution_count": 12,
   "id": "4cfd0b16-7ec9-44a6-a8ba-3b12d71ed0b3",
   "metadata": {},
   "outputs": [
    {
     "name": "stdout",
     "output_type": "stream",
     "text": [
      "Z3 = \n",
      " [[ 2.1385474   1.1307205   1.8627117   0.75046617  1.4149714  -0.8105242 ]\n",
      " [ 2.264759    0.98640007  2.1668441   0.75986004  1.30066    -0.7276745 ]]\n"
     ]
    }
   ],
   "source": [
    "# Set random seed for reproducibility\n",
    "np.random.seed(1)\n",
    "\n",
    "# Generate random input data for testing\n",
    "X_input = np.random.randn(2, 64, 64, 3).astype(np.float32)  # Input tensor with shape (2, 64, 64, 3)\n",
    "Y_input = np.random.randn(2, 6).astype(np.float32)          # Target tensor with shape (2, 6)\n",
    "\n",
    "# Initialize model parameters\n",
    "parameters = initialize_parameters()  # Initialize weights / kernels\n",
    "\n",
    "# Perform forward propagation\n",
    "Z3 = forward_propagation(X_input, parameters)\n",
    "\n",
    "# Display the output of the forward pass\n",
    "print(\"Z3 = \\n\", Z3.numpy())\n"
   ]
  },
  {
   "cell_type": "markdown",
   "id": "c20330f1-1486-4ba7-aa7f-39392fea4958",
   "metadata": {},
   "source": [
    "## 1.4 - Compute cost"
   ]
  },
  {
   "cell_type": "code",
   "execution_count": 14,
   "id": "7b64d32b-9bd2-4c7f-ab88-c5763f1c81f9",
   "metadata": {},
   "outputs": [],
   "source": [
    "# GRADED FUNCTION: compute_cost\n",
    "\n",
    "def compute_cost(Z3, Y):\n",
    "    \"\"\"\n",
    "    Computes the cost using softmax cross entropy loss.\n",
    "    \n",
    "    Arguments:\n",
    "    Z3 -- output of the forward propagation (last layer's raw output), shape: (number of examples, 6)\n",
    "    Y -- true labels, one-hot encoded, same shape as Z3\n",
    "    \n",
    "    Returns:\n",
    "    cost -- Tensor representing the mean cost value\n",
    "    \"\"\"\n",
    "    \n",
    "    # Compute the softmax cross entropy loss and take the mean over all examples\n",
    "    cost = tf.reduce_mean(tf.nn.softmax_cross_entropy_with_logits(logits=Z3, labels=Y))\n",
    "    \n",
    "    return cost\n"
   ]
  },
  {
   "cell_type": "code",
   "execution_count": 15,
   "id": "e560286f-ef1e-4816-9c5b-80a9ec55ba08",
   "metadata": {},
   "outputs": [
    {
     "name": "stdout",
     "output_type": "stream",
     "text": [
      "Cost: -0.7548933029174805\n"
     ]
    }
   ],
   "source": [
    "# Example training data\n",
    "X_train = np.random.randn(4, 64, 64, 3)  # Example input data\n",
    "Y_train = np.random.randn(4, 6)  # Example labels\n",
    "\n",
    "# Initialize parameters and perform forward propagation\n",
    "parameters = initialize_parameters()\n",
    "Z3 = forward_propagation(X_train, parameters)\n",
    "\n",
    "# Compute cost\n",
    "cost = compute_cost(Z3, Y_train)\n",
    "\n",
    "print(f\"Cost: {cost.numpy()}\")\n"
   ]
  },
  {
   "cell_type": "markdown",
   "id": "9dc191dd-2472-4dd9-af21-0e82993bb511",
   "metadata": {},
   "source": [
    "## 1.5 - Model"
   ]
  },
  {
   "cell_type": "code",
   "execution_count": 17,
   "id": "a65b5308-c676-444c-90be-20e3ae9f8c20",
   "metadata": {},
   "outputs": [],
   "source": [
    "def model(X_train, Y_train, X_test, Y_test, learning_rate=0.009, num_epochs=100, batch_size=64, print_cost=True):\n",
    "    \"\"\"\n",
    "    Implements a three-layer ConvNet in TensorFlow 2.x with the architecture:\n",
    "    CONV2D -> RELU -> MAXPOOL -> CONV2D -> RELU -> MAXPOOL -> FLATTEN -> DENSE.\n",
    "    \n",
    "    Arguments:\n",
    "    X_train -- training set, of shape (m, 64, 64, 3)\n",
    "    Y_train -- training labels, of shape (m, n_y = 6)\n",
    "    X_test -- test set, of shape (m_test, 64, 64, 3)\n",
    "    Y_test -- test labels, of shape (m_test, n_y = 6)\n",
    "    learning_rate -- learning rate of the optimizer\n",
    "    num_epochs -- number of epochs\n",
    "    batch_size -- size of each minibatch\n",
    "    print_cost -- if True, prints the cost every 5 epochs\n",
    "    \n",
    "    Returns:\n",
    "    train_accuracy -- accuracy on the training set\n",
    "    test_accuracy -- accuracy on the test set\n",
    "    parameters -- model weights after training\n",
    "    \"\"\"\n",
    "\n",
    "    # Define the model architecture\n",
    "    model = tf.keras.Sequential([\n",
    "        tf.keras.layers.Conv2D(8, (4, 4), activation='relu', padding='same', input_shape=(64, 64, 3)),\n",
    "        tf.keras.layers.MaxPooling2D((8, 8), strides=8, padding='same'),\n",
    "        tf.keras.layers.Conv2D(16, (2, 2), activation='relu', padding='same'),\n",
    "        tf.keras.layers.MaxPooling2D((4, 4), strides=4, padding='same'),\n",
    "        tf.keras.layers.Flatten(),\n",
    "        tf.keras.layers.Dense(6, activation='softmax')\n",
    "    ])\n",
    "\n",
    "    # Compile the model\n",
    "    model.compile(optimizer=tf.keras.optimizers.Adam(learning_rate=learning_rate),\n",
    "                  loss='categorical_crossentropy',\n",
    "                  metrics=['accuracy'])\n",
    "\n",
    "    # Train the model\n",
    "    history = model.fit(X_train, Y_train, epochs=num_epochs, batch_size=batch_size, validation_data=(X_test, Y_test), verbose=2)\n",
    "\n",
    "    # Plot the cost\n",
    "    if print_cost:\n",
    "        plt.plot(history.history['loss'], label='Training loss')\n",
    "        plt.plot(history.history['val_loss'], label='Validation loss')\n",
    "        plt.ylabel('Cost')\n",
    "        plt.xlabel('Epochs')\n",
    "        plt.legend()\n",
    "        plt.title(f\"Learning rate = {learning_rate}\")\n",
    "        plt.show()\n",
    "\n",
    "    # Evaluate accuracy on training and test sets\n",
    "    train_accuracy = model.evaluate(X_train, Y_train, verbose=0)[1]\n",
    "    test_accuracy = model.evaluate(X_test, Y_test, verbose=0)[1]\n",
    "    print(f\"Train Accuracy: {train_accuracy}\")\n",
    "    print(f\"Test Accuracy: {test_accuracy}\")\n",
    "\n",
    "    # Retrieve and return model parameters\n",
    "    parameters = model.get_weights()\n",
    "    \n",
    "    return train_accuracy, test_accuracy, parameters\n"
   ]
  },
  {
   "cell_type": "code",
   "execution_count": 18,
   "id": "31488f1c-6335-4de8-b73a-e61f4cab4a39",
   "metadata": {},
   "outputs": [
    {
     "name": "stdout",
     "output_type": "stream",
     "text": [
      "Epoch 1/100\n"
     ]
    },
    {
     "name": "stderr",
     "output_type": "stream",
     "text": [
      "/home/muhammad-saqib/anaconda3/lib/python3.12/site-packages/keras/src/layers/convolutional/base_conv.py:107: UserWarning: Do not pass an `input_shape`/`input_dim` argument to a layer. When using Sequential models, prefer using an `Input(shape)` object as the first layer in the model instead.\n",
      "  super().__init__(activity_regularizer=activity_regularizer, **kwargs)\n"
     ]
    },
    {
     "name": "stdout",
     "output_type": "stream",
     "text": [
      "1/1 - 2s - 2s/step - accuracy: 0.5000 - loss: -1.8224e+00 - val_accuracy: 0.1667 - val_loss: 1.8515\n",
      "Epoch 2/100\n",
      "1/1 - 0s - 397ms/step - accuracy: 0.5000 - loss: -4.7049e+00 - val_accuracy: 0.1667 - val_loss: 1.9010\n",
      "Epoch 3/100\n",
      "1/1 - 0s - 120ms/step - accuracy: 0.5000 - loss: -7.8211e+00 - val_accuracy: 0.1667 - val_loss: 1.9970\n",
      "Epoch 4/100\n",
      "1/1 - 0s - 114ms/step - accuracy: 0.5000 - loss: -1.1024e+01 - val_accuracy: 0.1667 - val_loss: 2.1530\n",
      "Epoch 5/100\n",
      "1/1 - 0s - 118ms/step - accuracy: 0.5000 - loss: -1.4643e+01 - val_accuracy: 0.1667 - val_loss: 2.3914\n",
      "Epoch 6/100\n",
      "1/1 - 0s - 115ms/step - accuracy: 0.5000 - loss: -1.9135e+01 - val_accuracy: 0.1667 - val_loss: 2.7157\n",
      "Epoch 7/100\n",
      "1/1 - 0s - 112ms/step - accuracy: 0.5000 - loss: -2.4338e+01 - val_accuracy: 0.1667 - val_loss: 3.1288\n",
      "Epoch 8/100\n",
      "1/1 - 0s - 109ms/step - accuracy: 0.5000 - loss: -3.0216e+01 - val_accuracy: 0.1667 - val_loss: 3.6331\n",
      "Epoch 9/100\n",
      "1/1 - 0s - 108ms/step - accuracy: 0.5000 - loss: -3.7147e+01 - val_accuracy: 0.1667 - val_loss: 4.2543\n",
      "Epoch 10/100\n",
      "1/1 - 0s - 112ms/step - accuracy: 0.5000 - loss: -4.5708e+01 - val_accuracy: 0.1667 - val_loss: 5.0221\n",
      "Epoch 11/100\n",
      "1/1 - 0s - 110ms/step - accuracy: 0.5000 - loss: -5.6555e+01 - val_accuracy: 0.1667 - val_loss: 5.9200\n",
      "Epoch 12/100\n",
      "1/1 - 0s - 106ms/step - accuracy: 0.5000 - loss: -6.8679e+01 - val_accuracy: 0.1667 - val_loss: 6.9890\n",
      "Epoch 13/100\n",
      "1/1 - 0s - 109ms/step - accuracy: 0.5000 - loss: -8.3195e+01 - val_accuracy: 0.1667 - val_loss: 8.2673\n",
      "Epoch 14/100\n",
      "1/1 - 0s - 114ms/step - accuracy: 0.5000 - loss: -1.0058e+02 - val_accuracy: 0.1667 - val_loss: 9.7282\n",
      "Epoch 15/100\n",
      "1/1 - 0s - 107ms/step - accuracy: 0.5000 - loss: -1.2044e+02 - val_accuracy: 0.1667 - val_loss: 11.3740\n",
      "Epoch 16/100\n",
      "1/1 - 0s - 108ms/step - accuracy: 0.5000 - loss: -1.4289e+02 - val_accuracy: 0.1667 - val_loss: 13.2208\n",
      "Epoch 17/100\n",
      "1/1 - 0s - 108ms/step - accuracy: 0.5000 - loss: -1.6835e+02 - val_accuracy: 0.1667 - val_loss: 15.3869\n",
      "Epoch 18/100\n",
      "1/1 - 0s - 136ms/step - accuracy: 0.5000 - loss: -1.9855e+02 - val_accuracy: 0.1667 - val_loss: 17.9452\n",
      "Epoch 19/100\n",
      "1/1 - 0s - 131ms/step - accuracy: 0.5000 - loss: -2.3210e+02 - val_accuracy: 0.1667 - val_loss: 20.9338\n",
      "Epoch 20/100\n",
      "1/1 - 0s - 114ms/step - accuracy: 0.5000 - loss: -2.7126e+02 - val_accuracy: 0.1667 - val_loss: 24.2898\n",
      "Epoch 21/100\n",
      "1/1 - 0s - 136ms/step - accuracy: 0.5000 - loss: -3.1562e+02 - val_accuracy: 0.1667 - val_loss: 27.9987\n",
      "Epoch 22/100\n",
      "1/1 - 0s - 113ms/step - accuracy: 0.5000 - loss: -3.6468e+02 - val_accuracy: 0.1583 - val_loss: 32.1902\n",
      "Epoch 23/100\n",
      "1/1 - 0s - 107ms/step - accuracy: 0.2500 - loss: -4.2162e+02 - val_accuracy: 0.1667 - val_loss: 37.0660\n",
      "Epoch 24/100\n",
      "1/1 - 0s - 177ms/step - accuracy: 0.5000 - loss: -4.8294e+02 - val_accuracy: 0.1667 - val_loss: 42.5233\n",
      "Epoch 25/100\n",
      "1/1 - 0s - 109ms/step - accuracy: 0.5000 - loss: -5.5328e+02 - val_accuracy: 0.1667 - val_loss: 48.4826\n",
      "Epoch 26/100\n",
      "1/1 - 0s - 136ms/step - accuracy: 0.5000 - loss: -6.3014e+02 - val_accuracy: 0.1500 - val_loss: 55.0736\n",
      "Epoch 27/100\n",
      "1/1 - 0s - 107ms/step - accuracy: 0.2500 - loss: -7.1827e+02 - val_accuracy: 0.1667 - val_loss: 62.6220\n",
      "Epoch 28/100\n",
      "1/1 - 0s - 111ms/step - accuracy: 0.5000 - loss: -8.1194e+02 - val_accuracy: 0.1667 - val_loss: 70.8926\n",
      "Epoch 29/100\n",
      "1/1 - 0s - 107ms/step - accuracy: 0.5000 - loss: -9.1884e+02 - val_accuracy: 0.1667 - val_loss: 79.7146\n",
      "Epoch 30/100\n",
      "1/1 - 0s - 118ms/step - accuracy: 0.5000 - loss: -1.0347e+03 - val_accuracy: 0.1583 - val_loss: 89.2341\n",
      "Epoch 31/100\n",
      "1/1 - 0s - 131ms/step - accuracy: 0.2500 - loss: -1.1648e+03 - val_accuracy: 0.1667 - val_loss: 100.1535\n",
      "Epoch 32/100\n",
      "1/1 - 0s - 106ms/step - accuracy: 0.5000 - loss: -1.3046e+03 - val_accuracy: 0.1667 - val_loss: 111.9155\n",
      "Epoch 33/100\n",
      "1/1 - 0s - 177ms/step - accuracy: 0.5000 - loss: -1.4603e+03 - val_accuracy: 0.1583 - val_loss: 124.4049\n",
      "Epoch 34/100\n",
      "1/1 - 0s - 108ms/step - accuracy: 0.5000 - loss: -1.6295e+03 - val_accuracy: 0.1583 - val_loss: 138.3896\n",
      "Epoch 35/100\n",
      "1/1 - 0s - 108ms/step - accuracy: 0.2500 - loss: -1.8174e+03 - val_accuracy: 0.1667 - val_loss: 154.1826\n",
      "Epoch 36/100\n",
      "1/1 - 0s - 108ms/step - accuracy: 0.5000 - loss: -2.0247e+03 - val_accuracy: 0.1667 - val_loss: 170.8076\n",
      "Epoch 37/100\n",
      "1/1 - 0s - 112ms/step - accuracy: 0.5000 - loss: -2.2476e+03 - val_accuracy: 0.1500 - val_loss: 188.3506\n",
      "Epoch 38/100\n",
      "1/1 - 0s - 109ms/step - accuracy: 0.2500 - loss: -2.4920e+03 - val_accuracy: 0.1667 - val_loss: 208.5769\n",
      "Epoch 39/100\n",
      "1/1 - 0s - 173ms/step - accuracy: 0.5000 - loss: -2.7508e+03 - val_accuracy: 0.1667 - val_loss: 229.7987\n",
      "Epoch 40/100\n",
      "1/1 - 0s - 112ms/step - accuracy: 0.5000 - loss: -3.0339e+03 - val_accuracy: 0.1667 - val_loss: 251.7877\n",
      "Epoch 41/100\n",
      "1/1 - 0s - 106ms/step - accuracy: 0.5000 - loss: -3.3333e+03 - val_accuracy: 0.1500 - val_loss: 275.3805\n",
      "Epoch 42/100\n",
      "1/1 - 0s - 106ms/step - accuracy: 0.0000e+00 - loss: -3.6764e+03 - val_accuracy: 0.1667 - val_loss: 302.5171\n",
      "Epoch 43/100\n",
      "1/1 - 0s - 146ms/step - accuracy: 0.5000 - loss: -4.0101e+03 - val_accuracy: 0.1667 - val_loss: 331.7344\n",
      "Epoch 44/100\n",
      "1/1 - 0s - 107ms/step - accuracy: 0.5000 - loss: -4.3909e+03 - val_accuracy: 0.1667 - val_loss: 362.1627\n",
      "Epoch 45/100\n",
      "1/1 - 0s - 117ms/step - accuracy: 0.5000 - loss: -4.7929e+03 - val_accuracy: 0.1667 - val_loss: 393.7537\n",
      "Epoch 46/100\n",
      "1/1 - 0s - 111ms/step - accuracy: 0.5000 - loss: -5.2165e+03 - val_accuracy: 0.1667 - val_loss: 426.4984\n",
      "Epoch 47/100\n",
      "1/1 - 0s - 106ms/step - accuracy: 0.5000 - loss: -5.6622e+03 - val_accuracy: 0.1750 - val_loss: 461.0771\n",
      "Epoch 48/100\n",
      "1/1 - 0s - 105ms/step - accuracy: 0.2500 - loss: -6.1609e+03 - val_accuracy: 0.1583 - val_loss: 501.1983\n",
      "Epoch 49/100\n",
      "1/1 - 0s - 106ms/step - accuracy: 0.5000 - loss: -6.6560e+03 - val_accuracy: 0.1667 - val_loss: 543.2377\n",
      "Epoch 50/100\n",
      "1/1 - 0s - 107ms/step - accuracy: 0.5000 - loss: -7.2077e+03 - val_accuracy: 0.1583 - val_loss: 586.7299\n",
      "Epoch 51/100\n",
      "1/1 - 0s - 107ms/step - accuracy: 0.5000 - loss: -7.7860e+03 - val_accuracy: 0.1500 - val_loss: 632.8399\n",
      "Epoch 52/100\n",
      "1/1 - 0s - 105ms/step - accuracy: 0.2500 - loss: -8.4326e+03 - val_accuracy: 0.1667 - val_loss: 685.2447\n",
      "Epoch 53/100\n",
      "1/1 - 0s - 107ms/step - accuracy: 0.5000 - loss: -9.0715e+03 - val_accuracy: 0.1667 - val_loss: 739.9211\n",
      "Epoch 54/100\n",
      "1/1 - 0s - 113ms/step - accuracy: 0.5000 - loss: -9.7787e+03 - val_accuracy: 0.1667 - val_loss: 796.0281\n",
      "Epoch 55/100\n",
      "1/1 - 0s - 111ms/step - accuracy: 0.5000 - loss: -1.0516e+04 - val_accuracy: 0.1667 - val_loss: 853.6266\n",
      "Epoch 56/100\n",
      "1/1 - 0s - 116ms/step - accuracy: 0.5000 - loss: -1.1285e+04 - val_accuracy: 0.1583 - val_loss: 912.8636\n",
      "Epoch 57/100\n",
      "1/1 - 0s - 135ms/step - accuracy: 0.5000 - loss: -1.2086e+04 - val_accuracy: 0.1833 - val_loss: 978.3666\n",
      "Epoch 58/100\n",
      "1/1 - 0s - 114ms/step - accuracy: 0.0000e+00 - loss: -1.2989e+04 - val_accuracy: 0.1583 - val_loss: 1048.0547\n",
      "Epoch 59/100\n",
      "1/1 - 0s - 107ms/step - accuracy: 0.5000 - loss: -1.3860e+04 - val_accuracy: 0.1667 - val_loss: 1123.7379\n",
      "Epoch 60/100\n",
      "1/1 - 0s - 105ms/step - accuracy: 0.5000 - loss: -1.4833e+04 - val_accuracy: 0.1667 - val_loss: 1201.3917\n",
      "Epoch 61/100\n",
      "1/1 - 0s - 115ms/step - accuracy: 0.5000 - loss: -1.5843e+04 - val_accuracy: 0.1667 - val_loss: 1280.7991\n",
      "Epoch 62/100\n",
      "1/1 - 0s - 105ms/step - accuracy: 0.5000 - loss: -1.6890e+04 - val_accuracy: 0.1750 - val_loss: 1362.3040\n",
      "Epoch 63/100\n",
      "1/1 - 0s - 109ms/step - accuracy: 0.2500 - loss: -1.7997e+04 - val_accuracy: 0.1667 - val_loss: 1452.4701\n",
      "Epoch 64/100\n",
      "1/1 - 0s - 111ms/step - accuracy: 0.5000 - loss: -1.9152e+04 - val_accuracy: 0.1583 - val_loss: 1544.8711\n",
      "Epoch 65/100\n",
      "1/1 - 0s - 106ms/step - accuracy: 0.2500 - loss: -2.0379e+04 - val_accuracy: 0.1667 - val_loss: 1646.7010\n",
      "Epoch 66/100\n",
      "1/1 - 0s - 113ms/step - accuracy: 0.5000 - loss: -2.1679e+04 - val_accuracy: 0.1667 - val_loss: 1750.1666\n",
      "Epoch 67/100\n",
      "1/1 - 0s - 114ms/step - accuracy: 0.5000 - loss: -2.3030e+04 - val_accuracy: 0.1667 - val_loss: 1854.8673\n",
      "Epoch 68/100\n",
      "1/1 - 0s - 106ms/step - accuracy: 0.5000 - loss: -2.4422e+04 - val_accuracy: 0.1917 - val_loss: 1962.2739\n",
      "Epoch 69/100\n",
      "1/1 - 0s - 115ms/step - accuracy: 0.2500 - loss: -2.5904e+04 - val_accuracy: 0.1667 - val_loss: 2082.3481\n",
      "Epoch 70/100\n",
      "1/1 - 0s - 107ms/step - accuracy: 0.5000 - loss: -2.7422e+04 - val_accuracy: 0.1667 - val_loss: 2204.5732\n",
      "Epoch 71/100\n",
      "1/1 - 0s - 136ms/step - accuracy: 0.5000 - loss: -2.9032e+04 - val_accuracy: 0.1583 - val_loss: 2327.5181\n",
      "Epoch 72/100\n",
      "1/1 - 0s - 143ms/step - accuracy: 0.5000 - loss: -3.0686e+04 - val_accuracy: 0.1833 - val_loss: 2453.6389\n",
      "Epoch 73/100\n",
      "1/1 - 0s - 174ms/step - accuracy: 0.0000e+00 - loss: -3.2463e+04 - val_accuracy: 0.1667 - val_loss: 2595.5994\n",
      "Epoch 74/100\n",
      "1/1 - 0s - 108ms/step - accuracy: 0.5000 - loss: -3.4258e+04 - val_accuracy: 0.1667 - val_loss: 2740.7566\n",
      "Epoch 75/100\n",
      "1/1 - 0s - 115ms/step - accuracy: 0.5000 - loss: -3.6181e+04 - val_accuracy: 0.1667 - val_loss: 2886.4949\n",
      "Epoch 76/100\n",
      "1/1 - 0s - 113ms/step - accuracy: 0.5000 - loss: -3.8153e+04 - val_accuracy: 0.1667 - val_loss: 3033.0496\n",
      "Epoch 77/100\n",
      "1/1 - 0s - 113ms/step - accuracy: 0.5000 - loss: -4.0176e+04 - val_accuracy: 0.1667 - val_loss: 3180.0225\n",
      "Epoch 78/100\n",
      "1/1 - 0s - 106ms/step - accuracy: 0.5000 - loss: -4.2250e+04 - val_accuracy: 0.1667 - val_loss: 3327.9875\n",
      "Epoch 79/100\n",
      "1/1 - 0s - 108ms/step - accuracy: 0.5000 - loss: -4.4377e+04 - val_accuracy: 0.1667 - val_loss: 3494.3435\n",
      "Epoch 80/100\n",
      "1/1 - 0s - 113ms/step - accuracy: 0.0000e+00 - loss: -4.6691e+04 - val_accuracy: 0.1750 - val_loss: 3658.5320\n",
      "Epoch 81/100\n",
      "1/1 - 0s - 108ms/step - accuracy: 0.2500 - loss: -4.9024e+04 - val_accuracy: 0.1667 - val_loss: 3850.9587\n",
      "Epoch 82/100\n",
      "1/1 - 0s - 174ms/step - accuracy: 0.5000 - loss: -5.1516e+04 - val_accuracy: 0.1667 - val_loss: 4046.4885\n",
      "Epoch 83/100\n",
      "1/1 - 0s - 112ms/step - accuracy: 0.5000 - loss: -5.4123e+04 - val_accuracy: 0.1667 - val_loss: 4242.9580\n",
      "Epoch 84/100\n",
      "1/1 - 0s - 106ms/step - accuracy: 0.5000 - loss: -5.6784e+04 - val_accuracy: 0.1667 - val_loss: 4439.9312\n",
      "Epoch 85/100\n",
      "1/1 - 0s - 113ms/step - accuracy: 0.5000 - loss: -5.9504e+04 - val_accuracy: 0.1667 - val_loss: 4637.5010\n",
      "Epoch 86/100\n",
      "1/1 - 0s - 133ms/step - accuracy: 0.5000 - loss: -6.2283e+04 - val_accuracy: 0.1667 - val_loss: 4835.5493\n",
      "Epoch 87/100\n",
      "1/1 - 0s - 111ms/step - accuracy: 0.5000 - loss: -6.5122e+04 - val_accuracy: 0.1667 - val_loss: 5034.2344\n",
      "Epoch 88/100\n",
      "1/1 - 0s - 110ms/step - accuracy: 0.5000 - loss: -6.8022e+04 - val_accuracy: 0.1667 - val_loss: 5256.9761\n",
      "Epoch 89/100\n",
      "1/1 - 0s - 131ms/step - accuracy: 0.0000e+00 - loss: -7.1146e+04 - val_accuracy: 0.1917 - val_loss: 5476.3691\n",
      "Epoch 90/100\n",
      "1/1 - 0s - 108ms/step - accuracy: 0.0000e+00 - loss: -7.4342e+04 - val_accuracy: 0.1667 - val_loss: 5739.3770\n",
      "Epoch 91/100\n",
      "1/1 - 0s - 105ms/step - accuracy: 0.5000 - loss: -7.7759e+04 - val_accuracy: 0.1667 - val_loss: 6006.6528\n",
      "Epoch 92/100\n",
      "1/1 - 0s - 109ms/step - accuracy: 0.5000 - loss: -8.1333e+04 - val_accuracy: 0.1667 - val_loss: 6273.8857\n",
      "Epoch 93/100\n",
      "1/1 - 0s - 107ms/step - accuracy: 0.5000 - loss: -8.4971e+04 - val_accuracy: 0.1667 - val_loss: 6541.4155\n",
      "Epoch 94/100\n",
      "1/1 - 0s - 118ms/step - accuracy: 0.5000 - loss: -8.8673e+04 - val_accuracy: 0.1667 - val_loss: 6809.4912\n",
      "Epoch 95/100\n",
      "1/1 - 0s - 134ms/step - accuracy: 0.5000 - loss: -9.2443e+04 - val_accuracy: 0.1667 - val_loss: 7077.8013\n",
      "Epoch 96/100\n",
      "1/1 - 0s - 106ms/step - accuracy: 0.5000 - loss: -9.6281e+04 - val_accuracy: 0.1667 - val_loss: 7346.4155\n",
      "Epoch 97/100\n",
      "1/1 - 0s - 109ms/step - accuracy: 0.5000 - loss: -1.0019e+05 - val_accuracy: 0.1667 - val_loss: 7615.7031\n",
      "Epoch 98/100\n",
      "1/1 - 0s - 114ms/step - accuracy: 0.5000 - loss: -1.0417e+05 - val_accuracy: 0.1667 - val_loss: 7888.0400\n",
      "Epoch 99/100\n",
      "1/1 - 0s - 145ms/step - accuracy: 0.5000 - loss: -1.0822e+05 - val_accuracy: 0.1667 - val_loss: 8162.2300\n",
      "Epoch 100/100\n",
      "1/1 - 0s - 107ms/step - accuracy: 0.5000 - loss: -1.1235e+05 - val_accuracy: 0.1667 - val_loss: 8468.5068\n"
     ]
    },
    {
     "data": {
      "image/png": "[encoded data removed]",
      "text/plain": [
       "<Figure size 640x480 with 1 Axes>"
      ]
     },
     "metadata": {},
     "output_type": "display_data"
    },
    {
     "name": "stdout",
     "output_type": "stream",
     "text": [
      "Train Accuracy: 0.0\n",
      "Test Accuracy: 0.1666666716337204\n"
     ]
    }
   ],
   "source": [
    "# Only retrieve the parameters, ignore the other returned values\n",
    "_, _, parameters = model(X_train, Y_train, X_test, Y_test)\n"
   ]
  },
  {
   "cell_type": "code",
   "execution_count": null,
   "id": "06fcdaad-ebf0-4d5f-9388-7e7a8cabf484",
   "metadata": {},
   "outputs": [],
   "source": []
  }
 ],
 "metadata": {
  "kernelspec": {
   "display_name": "Python [conda env:base] *",
   "language": "python",
   "name": "conda-base-py"
  },
  "language_info": {
   "codemirror_mode": {
    "name": "ipython",
    "version": 3
   },
   "file_extension": ".py",
   "mimetype": "text/x-python",
   "name": "python",
   "nbconvert_exporter": "python",
   "pygments_lexer": "ipython3",
   "version": "3.12.4"
  }
 },
 "nbformat": 4,
 "nbformat_minor": 5
}
